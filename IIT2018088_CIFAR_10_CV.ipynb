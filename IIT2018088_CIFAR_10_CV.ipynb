{
  "nbformat": 4,
  "nbformat_minor": 0,
  "metadata": {
    "colab": {
      "name": "IIT2018088_CIFAR-10_CV.ipynb",
      "provenance": []
    },
    "kernelspec": {
      "name": "python3",
      "display_name": "Python 3"
    },
    "language_info": {
      "name": "python"
    }
  },
  "cells": [
    {
      "cell_type": "markdown",
      "metadata": {
        "id": "hSvp1S0VS4zf"
      },
      "source": [
        "Hrutvik Nagrale \n",
        "IIT2018088"
      ]
    },
    {
      "cell_type": "markdown",
      "metadata": {
        "id": "wkmI4fP-S9Oc"
      },
      "source": [
        "CIFAR-10 Data set to run Nearest Neighbor Algorithm and check its performance\n"
      ]
    },
    {
      "cell_type": "code",
      "metadata": {
        "colab": {
          "base_uri": "https://localhost:8080/"
        },
        "id": "Kj0YdFDvRrLL",
        "outputId": "d3465bae-6d2c-4037-a86e-83b68fa39618"
      },
      "source": [
        "%cd '/content'\n",
        "!rm -r 'cifar-10-batches-py'"
      ],
      "execution_count": 6,
      "outputs": [
        {
          "output_type": "stream",
          "text": [
            "/content\n",
            "rm: cannot remove 'cifar-10-batches-py': No such file or directory\n"
          ],
          "name": "stdout"
        }
      ]
    },
    {
      "cell_type": "code",
      "metadata": {
        "colab": {
          "base_uri": "https://localhost:8080/"
        },
        "id": "jI8rjQfJTCsN",
        "outputId": "590d042a-e0dd-46f8-eef8-cae2869b995b"
      },
      "source": [
        "!wget http://www.cs.toronto.edu/~kriz/cifar-10-python.tar.gz\n",
        "!tar -xzvf cifar-10-python.tar.gz\n",
        "!rm cifar-10-python.tar.gz \n",
        "%cd 'cifar-10-batches-py'"
      ],
      "execution_count": 7,
      "outputs": [
        {
          "output_type": "stream",
          "text": [
            "--2021-05-08 09:27:40--  http://www.cs.toronto.edu/~kriz/cifar-10-python.tar.gz\n",
            "Resolving www.cs.toronto.edu (www.cs.toronto.edu)... 128.100.3.30\n",
            "Connecting to www.cs.toronto.edu (www.cs.toronto.edu)|128.100.3.30|:80... connected.\n",
            "HTTP request sent, awaiting response... 200 OK\n",
            "Length: 170498071 (163M) [application/x-gzip]\n",
            "Saving to: ‘cifar-10-python.tar.gz’\n",
            "\n",
            "cifar-10-python.tar 100%[===================>] 162.60M  98.7MB/s    in 1.6s    \n",
            "\n",
            "2021-05-08 09:27:41 (98.7 MB/s) - ‘cifar-10-python.tar.gz’ saved [170498071/170498071]\n",
            "\n",
            "cifar-10-batches-py/\n",
            "cifar-10-batches-py/data_batch_4\n",
            "cifar-10-batches-py/readme.html\n",
            "cifar-10-batches-py/test_batch\n",
            "cifar-10-batches-py/data_batch_3\n",
            "cifar-10-batches-py/batches.meta\n",
            "cifar-10-batches-py/data_batch_2\n",
            "cifar-10-batches-py/data_batch_5\n",
            "cifar-10-batches-py/data_batch_1\n",
            "/content/cifar-10-batches-py\n"
          ],
          "name": "stdout"
        }
      ]
    },
    {
      "cell_type": "code",
      "metadata": {
        "id": "u4XpKQ97TC26"
      },
      "source": [
        "import pickle\n",
        "import numpy as np\n",
        "from collections import Counter\n",
        "from sklearn.neighbors import KNeighborsClassifier\n",
        "\n",
        "def unpickle(file):\n",
        "    # unpickles cifar10 dataset\n",
        "    with open(file, 'rb') as fo:\n",
        "        dic = pickle.load(fo, encoding='bytes')\n",
        "    return dic\n",
        "\n",
        "def getCIFAR10(batches):\n",
        "    # Converts the data in batches to a full training set\n",
        "\n",
        "    for j in range(1, batches+1):\n",
        "        file = 'data_batch_' + str(j)\n",
        "        dic = unpickle(file)\n",
        "        if j == 1:\n",
        "            X_train = dic[b'data']\n",
        "            y_train = dic[b'labels']\n",
        "        else:\n",
        "            temp_X = dic[b'data']\n",
        "            temp_y = dic[b'labels']\n",
        "            X_train = np.concatenate((X_train, temp_X))\n",
        "            y_train = np.concatenate((y_train, temp_y))\n",
        "    return X_train, y_train"
      ],
      "execution_count": 8,
      "outputs": []
    },
    {
      "cell_type": "code",
      "metadata": {
        "id": "M0ZCx6sbTC6_"
      },
      "source": [
        "data_test = unpickle('test_batch')\n",
        "X_test = data_test[b'data']\n",
        "Y_test = data_test[b'labels']\n",
        "X_train, Y_train = getCIFAR10(1)"
      ],
      "execution_count": 9,
      "outputs": []
    },
    {
      "cell_type": "code",
      "metadata": {
        "colab": {
          "base_uri": "https://localhost:8080/"
        },
        "id": "EFRIsilWTC78",
        "outputId": "3699b78d-e831-4235-8960-33d21890ed0f"
      },
      "source": [
        "k = 10\n",
        "print(\"Training\")\n",
        "knn = KNeighborsClassifier(n_neighbors=k)\n",
        "knn.fit(X_train, Y_train)"
      ],
      "execution_count": 12,
      "outputs": [
        {
          "output_type": "stream",
          "text": [
            "Training\n"
          ],
          "name": "stdout"
        },
        {
          "output_type": "execute_result",
          "data": {
            "text/plain": [
              "KNeighborsClassifier(algorithm='auto', leaf_size=30, metric='minkowski',\n",
              "                     metric_params=None, n_jobs=None, n_neighbors=10, p=2,\n",
              "                     weights='uniform')"
            ]
          },
          "metadata": {
            "tags": []
          },
          "execution_count": 12
        }
      ]
    },
    {
      "cell_type": "code",
      "metadata": {
        "id": "KE2JgPa-TDAf"
      },
      "source": [
        "#start+100 must be less than 10000 \n",
        "start=0\n",
        "x_test=X_test[start:start+100]\n",
        "y_test=Y_test[start:start+100]"
      ],
      "execution_count": 13,
      "outputs": []
    },
    {
      "cell_type": "code",
      "metadata": {
        "colab": {
          "base_uri": "https://localhost:8080/"
        },
        "id": "ZEogy1ZxTDBt",
        "outputId": "804e1722-0a4f-4410-8e4e-0a33e88fc26e"
      },
      "source": [
        "print(\"Testing\")\n",
        "Yte_predict = knn.predict(x_test)\n",
        "print(\"Prediction complete\")\n",
        "print('The accuracy of classifier on test data: {:.2f}' .format((knn.score(x_test, y_test)*100)))"
      ],
      "execution_count": 14,
      "outputs": [
        {
          "output_type": "stream",
          "text": [
            "Testing\n",
            "Prediction complete\n",
            "The accuracy of classifier on test data: 36.00\n"
          ],
          "name": "stdout"
        }
      ]
    },
    {
      "cell_type": "code",
      "metadata": {
        "id": "EVBU8izGTDGM"
      },
      "source": [
        ""
      ],
      "execution_count": null,
      "outputs": []
    },
    {
      "cell_type": "code",
      "metadata": {
        "id": "9V81opZWTDHL"
      },
      "source": [
        ""
      ],
      "execution_count": null,
      "outputs": []
    },
    {
      "cell_type": "code",
      "metadata": {
        "id": "5ShomiMYTDL7"
      },
      "source": [
        ""
      ],
      "execution_count": null,
      "outputs": []
    },
    {
      "cell_type": "markdown",
      "metadata": {
        "id": "VjqSZc6NS3fR"
      },
      "source": [
        ""
      ]
    }
  ]
}