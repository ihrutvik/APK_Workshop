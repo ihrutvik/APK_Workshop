{
  "nbformat": 4,
  "nbformat_minor": 0,
  "metadata": {
    "colab": {
      "name": "iris _CNN.ipynb",
      "provenance": [],
      "mount_file_id": "1jbkeBGqDdSNjtSfGRRtddAmra_XfVYpG",
      "authorship_tag": "ABX9TyOCEW8Fj4AGiexSP57Q0B9C",
      "include_colab_link": true
    },
    "kernelspec": {
      "name": "python3",
      "display_name": "Python 3"
    },
    "language_info": {
      "name": "python"
    }
  },
  "cells": [
    {
      "cell_type": "markdown",
      "metadata": {
        "id": "view-in-github",
        "colab_type": "text"
      },
      "source": [
        "<a href=\"https://colab.research.google.com/github/ihrutvik/APK_Workshop/blob/master/iris__CNN.ipynb\" target=\"_parent\"><img src=\"https://colab.research.google.com/assets/colab-badge.svg\" alt=\"Open In Colab\"/></a>"
      ]
    },
    {
      "cell_type": "code",
      "metadata": {
        "colab": {
          "base_uri": "https://localhost:8080/"
        },
        "id": "oWV4wfLadlP6",
        "outputId": "fecb17b1-d0eb-44b9-eaad-edccf930e468"
      },
      "source": [
        "!p7zip -d '/content/drive/MyDrive/IITD_database.7z'"
      ],
      "execution_count": 40,
      "outputs": [
        {
          "output_type": "stream",
          "name": "stdout",
          "text": [
            "\n",
            "7-Zip (a) [64] 16.02 : Copyright (c) 1999-2016 Igor Pavlov : 2016-05-21\n",
            "p7zip Version 16.02 (locale=en_US.UTF-8,Utf16=on,HugeFiles=on,64 bits,2 CPUs Intel(R) Xeon(R) CPU @ 2.20GHz (406F0),ASM,AES-NI)\n",
            "\n",
            "Scanning the drive for archives:\n",
            "  0M Scan /content/drive/MyDrive/\b\b\b\b\b\b\b\b\b\b\b\b\b\b\b\b\b\b\b\b\b\b\b\b\b\b\b\b\b\b\b\b\b                                 \b\b\b\b\b\b\b\b\b\b\b\b\b\b\b\b\b\b\b\b\b\b\b\b\b\b\b\b\b\b\b\b\b1 file, 139171336 bytes (133 MiB)\n",
            "\n",
            "Extracting archive: /content/drive/MyDrive/IITD_database.7z\n",
            "--\n",
            "Path = /content/drive/MyDrive/IITD_database.7z\n",
            "Type = 7z\n",
            "Physical Size = 139171336\n",
            "Headers Size = 15669\n",
            "Method = LZMA:24\n",
            "Solid = +\n",
            "Blocks = 1\n",
            "\n",
            "  0%\b\b\b\b    \b\b\b\b\n",
            "Would you like to replace the existing file:\n",
            "  Path:     ./IITD Database/Normalized_Images/001_1.bmp\n",
            "  Size:     21814 bytes (22 KiB)\n",
            "  Modified: 2007-07-06 16:36:34\n",
            "with the file from archive:\n",
            "  Path:     IITD Database/Normalized_Images/001_1.bmp\n",
            "  Size:     21814 bytes (22 KiB)\n",
            "  Modified: 2007-07-06 16:36:34\n",
            "? (Y)es / (N)o / (A)lways / (S)kip all / A(u)to rename all / (Q)uit? Q\n",
            "\n",
            "Archives with Errors: 1\n",
            "\n",
            "\n",
            "\n",
            "Break signaled\n"
          ]
        }
      ]
    },
    {
      "cell_type": "code",
      "metadata": {
        "colab": {
          "base_uri": "https://localhost:8080/"
        },
        "id": "JYpcNv-Dd4KH",
        "outputId": "0f87f7de-3b70-4720-8a8f-925d7047ec2d"
      },
      "source": [
        "%tensorflow_version 1.x\n",
        "import tensorflow\n",
        "print(tensorflow.__version__)"
      ],
      "execution_count": 225,
      "outputs": [
        {
          "output_type": "stream",
          "name": "stdout",
          "text": [
            "1.15.2\n"
          ]
        }
      ]
    },
    {
      "cell_type": "code",
      "metadata": {
        "id": "q9raDtJyjpgS"
      },
      "source": [
        "from keras.preprocessing import image \n",
        "import numpy as np"
      ],
      "execution_count": 226,
      "outputs": []
    },
    {
      "cell_type": "code",
      "metadata": {
        "colab": {
          "base_uri": "https://localhost:8080/"
        },
        "id": "O8o9OUdId4Mj",
        "outputId": "a5e8dd2a-17b5-4aa6-9d65-1d97d9b039fe"
      },
      "source": [
        "img_path = '/content/IITD Database/Normalized_Images/001_2.bmp'\n",
        " \n",
        "img = image.load_img(img_path, target_size=(48, 432))\n",
        "img_tensor=image.img_to_array(img)\n",
        "img_tensor = np.expand_dims(img_tensor, axis=0) \n",
        "\n",
        "# that were preprocessed in the folloving vay:\n",
        "\n",
        "img_tensor /= 255.\n",
        "\n",
        "# Its shape is (1, 150, 150, 3)\n",
        "\n",
        "print (img_tensor.shape)"
      ],
      "execution_count": 227,
      "outputs": [
        {
          "output_type": "stream",
          "name": "stdout",
          "text": [
            "(1, 48, 432, 3)\n"
          ]
        }
      ]
    },
    {
      "cell_type": "code",
      "metadata": {
        "colab": {
          "base_uri": "https://localhost:8080/",
          "height": 89
        },
        "id": "AVbFnytyd4PV",
        "outputId": "31d7e55a-5071-4233-9b25-a8ef30058487"
      },
      "source": [
        "import matplotlib.pyplot as plt\n",
        "\n",
        "plt.imshow (img_tensor [0]) \n",
        "plt.show()"
      ],
      "execution_count": 205,
      "outputs": [
        {
          "output_type": "display_data",
          "data": {
            "image/png": "[encoded data removed]",
            "text/plain": [
              "<Figure size 432x288 with 1 Axes>"
            ]
          },
          "metadata": {
            "needs_background": "light"
          }
        }
      ]
    },
    {
      "cell_type": "code",
      "metadata": {
        "id": "fswkW9LHnmvN"
      },
      "source": [
        "import numpy as np # lineer algebra \n",
        "import pandas as pd # data processing, CSV file I/O\n",
        "\n",
        "# imports needed for CNN\n",
        "\n",
        "import csv\n",
        "import cv2\n",
        "import os, glob \n",
        "import pandas as pd\n",
        "import numpy as np \n",
        "import sklearn\n",
        "from sklearn.model_selection import train_test_split \n",
        "import time\n",
        "from keras.datasets import cifar10\n",
        "from keras.models import Sequential \n",
        "from keras.layers import Dense\n",
        "from keras.layers import Dropout\n",
        "from keras.layers import Flatten\n",
        "from keras.constraints import maxnorm\n",
        "\n",
        "\n",
        "from keras.layers.convolutional import Convolution2D\n",
        "from keras.layers.convolutional import MaxPooling2D\n",
        "from keras.utils import np_utils\n",
        "\n",
        "from matplotlib import pyplot as plt\n",
        "\n",
        "from keras.utils import np_utils"
      ],
      "execution_count": 206,
      "outputs": []
    },
    {
      "cell_type": "code",
      "metadata": {
        "id": "VrACXq8ODr4r"
      },
      "source": [
        "from keras.optimizers import SGD"
      ],
      "execution_count": 207,
      "outputs": []
    },
    {
      "cell_type": "code",
      "metadata": {
        "id": "mWT-ny50nq5v"
      },
      "source": [
        "import os\n",
        "from keras.preprocessing import image\n",
        "import numpy as np\n",
        "import random"
      ],
      "execution_count": 228,
      "outputs": []
    },
    {
      "cell_type": "code",
      "metadata": {
        "id": "lCEMfz9Mnq7e"
      },
      "source": [
        "img_data_list=[] \n",
        "label_list=[]\n",
        "img_data_list1=[]\n",
        "img_data_list2=[] \n",
        "img_data_list3=[]\n",
        "img_data_list4=[]\n",
        "img_data_list5=[] \n",
        "label_list1=[]\n",
        "label_list2=[]\n",
        "label_list3=[]\n",
        "label_list4=[]\n",
        "label_list5=[]\n",
        "\n"
      ],
      "execution_count": 232,
      "outputs": []
    },
    {
      "cell_type": "code",
      "metadata": {
        "id": "KLPh07vcp7Pn"
      },
      "source": [
        "for file in os.listdir(\"/content/IITD Database/Normalized_Images/\"):\n",
        "  if file.endswith(\".bmp\"):\n",
        "    #for dataset in os. Listdir(\"Normalized_Images/\"):\n",
        "      img_path= '/content/IITD Database/Normalized_Images/' + file\n",
        "      img =image.load_img(img_path, target_size=(200, 150))\n",
        "      img_tensor= image.img_to_array(img)\n",
        "      #img tensor = np.expand_dims (img_tensor, axis=0)\n",
        "      #img tensor /= 255.\n",
        "      img_data_list.append(img_tensor)\n",
        "      label_list.append(file [0:3])\n",
        "      if file [4:5]=='1':\n",
        "        img_data_list1.append(img_tensor)\n",
        "        label_list1.append(file [0:3])\n",
        "      if file [4:5] == '2':\n",
        "        img_data_list2.append(img_tensor) \n",
        "        label_list2.append(file [0:3])\n",
        "      if file [4:5]=='3':\n",
        "        img_data_list3.append(img_tensor) \n",
        "        label_list3.append(file [0:3])\n",
        "      if file [4:5]=='4':\n",
        "        img_data_list4.append(img_tensor) \n",
        "        label_list4.append(file [0:3])\n",
        "      if file [4:5] == '5':\n",
        "        img_data_list5.append(img_tensor) \n",
        "        label_list5.append(file[0:3])"
      ],
      "execution_count": 233,
      "outputs": []
    },
    {
      "cell_type": "code",
      "metadata": {
        "id": "05TErKsZnq_D"
      },
      "source": [
        "import gc \n",
        "gc.collect()\n",
        "#trein ing\n",
        "\n",
        "train_img= np.array(img_data_list1)\n",
        "train_img= np.append (train_img, np.array(img_data_list2),axis=0)\n",
        "train_img= np.append(train_img, np.array(img_data_list3), axis=0) \n",
        "train_img =np. append (train_img, np.array(img_data_list4), axis=0)\n",
        "#strain inging data.astype (\"float32\")\n",
        "\n",
        "train_img/= 255\n",
        "\n",
        "#train label\n",
        "\n",
        "train_label= np.array(label_list1) \n",
        "train_label= np.append(train_label, np.array(label_list2), axis=0)\n",
        "train_label= np.append(train_label, np.array(label_list3), axis=0)\n",
        "train_label= np.append(train_label, np.array(label_list4), axis=0)\n",
        "\n",
        "#test ing \n",
        "test_img= np.array(img_data_list4)\n",
        "\n",
        "#test_ing test_img.astype (\"float:32\")\n",
        "\n",
        "test_img /=255 \n",
        "\n",
        "test_label= np.array(label_list4) #validate ing \n",
        "validate_img= np.array(img_data_list5) \n",
        "#frelidate ing=validate ing.aatype('float:32')\n",
        "validate_img /= 255 #validate label\n",
        "\n",
        "validate_label= np.array(label_list5)"
      ],
      "execution_count": 235,
      "outputs": []
    },
    {
      "cell_type": "code",
      "metadata": {
        "colab": {
          "base_uri": "https://localhost:8080/"
        },
        "id": "WMTRJeHmnrBP",
        "outputId": "4379075c-8b1b-4e33-d66b-48674a8fe5b4"
      },
      "source": [
        "train_label.shape"
      ],
      "execution_count": 236,
      "outputs": [
        {
          "output_type": "execute_result",
          "data": {
            "text/plain": [
              "(896,)"
            ]
          },
          "metadata": {},
          "execution_count": 236
        }
      ]
    },
    {
      "cell_type": "code",
      "metadata": {
        "colab": {
          "base_uri": "https://localhost:8080/"
        },
        "id": "RqxmqFP8whrG",
        "outputId": "0ea80c97-d79d-4e71-ee5d-ba77a38e69b1"
      },
      "source": [
        "from keras.utils import np_utils\n",
        "train_label= np.array(train_label)\n",
        "test_label= np.array(test_label) \n",
        "train_label= np_utils.to_categorical(train_label)\n",
        "test_label=np_utils.to_categorical (test_label)\n",
        "validate_label= np_utils.to_categorical(validate_label)\n",
        "num_classes= train_label.shape[1]\n",
        "print (\"Data normalized and hot encoded.\") \n",
        "print (num_classes)"
      ],
      "execution_count": 237,
      "outputs": [
        {
          "output_type": "stream",
          "name": "stdout",
          "text": [
            "Data normalized and hot encoded.\n",
            "225\n"
          ]
        }
      ]
    },
    {
      "cell_type": "code",
      "metadata": {
        "colab": {
          "base_uri": "https://localhost:8080/"
        },
        "id": "yoOftT85whso",
        "outputId": "d5bed4db-db7d-429d-a83d-a6cb09a47db3"
      },
      "source": [
        "print('After Conversion to one-shot:' ,train_label[10])"
      ],
      "execution_count": 238,
      "outputs": [
        {
          "output_type": "stream",
          "name": "stdout",
          "text": [
            "After Conversion to one-shot: [0. 0. 0. 0. 0. 0. 0. 0. 0. 0. 0. 0. 0. 0. 0. 0. 0. 0. 0. 0. 0. 0. 0. 0.\n",
            " 0. 0. 0. 0. 0. 0. 0. 0. 0. 0. 0. 0. 0. 0. 0. 0. 0. 0. 0. 0. 0. 0. 0. 0.\n",
            " 0. 0. 0. 0. 0. 0. 0. 0. 0. 0. 0. 0. 0. 0. 0. 0. 0. 0. 0. 0. 0. 0. 0. 0.\n",
            " 0. 0. 0. 0. 0. 0. 0. 0. 0. 0. 0. 0. 0. 0. 0. 0. 0. 0. 0. 0. 0. 0. 0. 0.\n",
            " 0. 0. 0. 0. 0. 0. 0. 0. 0. 0. 0. 0. 0. 0. 0. 0. 0. 0. 0. 0. 0. 0. 0. 0.\n",
            " 0. 0. 0. 0. 0. 0. 0. 0. 0. 0. 0. 0. 0. 0. 0. 0. 0. 0. 0. 0. 0. 0. 0. 0.\n",
            " 0. 0. 0. 0. 0. 0. 0. 0. 0. 0. 0. 0. 0. 0. 0. 0. 0. 0. 0. 0. 0. 0. 0. 0.\n",
            " 0. 0. 0. 0. 0. 0. 0. 0. 0. 0. 0. 0. 0. 0. 0. 0. 0. 0. 0. 0. 0. 0. 0. 0.\n",
            " 0. 0. 0. 0. 0. 0. 0. 0. 0. 0. 0. 0. 0. 0. 0. 0. 0. 0. 0. 0. 0. 0. 0. 1.\n",
            " 0. 0. 0. 0. 0. 0. 0. 0. 0.]\n"
          ]
        }
      ]
    },
    {
      "cell_type": "code",
      "metadata": {
        "colab": {
          "base_uri": "https://localhost:8080/"
        },
        "id": "LprDrZImyTDw",
        "outputId": "dda2b08c-7c51-41c8-d860-52257b817a74"
      },
      "source": [
        "test_img.reshape (-1, 200, 150,3)\n",
        "\n",
        "train_img.reshape (-1, 200, 150,3)\n",
        "\n",
        "validate_img.reshape (-1, 200, 150,3)"
      ],
      "execution_count": 239,
      "outputs": [
        {
          "output_type": "execute_result",
          "data": {
            "text/plain": [
              "array([[[[0.        , 0.        , 0.        ],\n",
              "         [0.        , 0.        , 0.        ],\n",
              "         [0.        , 0.        , 0.        ],\n",
              "         ...,\n",
              "         [0.        , 0.        , 0.        ],\n",
              "         [0.        , 0.        , 0.        ],\n",
              "         [0.        , 0.        , 0.        ]],\n",
              "\n",
              "        [[0.        , 0.        , 0.        ],\n",
              "         [0.        , 0.        , 0.        ],\n",
              "         [0.        , 0.        , 0.        ],\n",
              "         ...,\n",
              "         [0.        , 0.        , 0.        ],\n",
              "         [0.        , 0.        , 0.        ],\n",
              "         [0.        , 0.        , 0.        ]],\n",
              "\n",
              "        [[0.        , 0.        , 0.        ],\n",
              "         [0.        , 0.        , 0.        ],\n",
              "         [0.        , 0.        , 0.        ],\n",
              "         ...,\n",
              "         [0.        , 0.        , 0.        ],\n",
              "         [0.        , 0.        , 0.        ],\n",
              "         [0.        , 0.        , 0.        ]],\n",
              "\n",
              "        ...,\n",
              "\n",
              "        [[0.        , 0.        , 0.        ],\n",
              "         [0.        , 0.        , 0.        ],\n",
              "         [0.        , 0.        , 0.        ],\n",
              "         ...,\n",
              "         [0.99607843, 0.99607843, 0.99607843],\n",
              "         [0.99607843, 0.99607843, 0.99607843],\n",
              "         [0.99607843, 0.99607843, 0.99607843]],\n",
              "\n",
              "        [[0.        , 0.        , 0.        ],\n",
              "         [0.        , 0.        , 0.        ],\n",
              "         [0.        , 0.        , 0.        ],\n",
              "         ...,\n",
              "         [0.99607843, 0.99607843, 0.99607843],\n",
              "         [0.99607843, 0.99607843, 0.99607843],\n",
              "         [0.99607843, 0.99607843, 0.99607843]],\n",
              "\n",
              "        [[0.        , 0.        , 0.        ],\n",
              "         [0.        , 0.        , 0.        ],\n",
              "         [0.        , 0.        , 0.        ],\n",
              "         ...,\n",
              "         [0.99607843, 0.99607843, 0.99607843],\n",
              "         [0.99607843, 0.99607843, 0.99607843],\n",
              "         [0.99607843, 0.99607843, 0.99607843]]],\n",
              "\n",
              "\n",
              "       [[[0.        , 0.        , 0.        ],\n",
              "         [0.        , 0.        , 0.        ],\n",
              "         [0.        , 0.        , 0.        ],\n",
              "         ...,\n",
              "         [0.        , 0.        , 0.        ],\n",
              "         [0.        , 0.        , 0.        ],\n",
              "         [0.        , 0.        , 0.        ]],\n",
              "\n",
              "        [[0.        , 0.        , 0.        ],\n",
              "         [0.        , 0.        , 0.        ],\n",
              "         [0.        , 0.        , 0.        ],\n",
              "         ...,\n",
              "         [0.        , 0.        , 0.        ],\n",
              "         [0.        , 0.        , 0.        ],\n",
              "         [0.        , 0.        , 0.        ]],\n",
              "\n",
              "        [[0.        , 0.        , 0.        ],\n",
              "         [0.        , 0.        , 0.        ],\n",
              "         [0.        , 0.        , 0.        ],\n",
              "         ...,\n",
              "         [0.        , 0.        , 0.        ],\n",
              "         [0.        , 0.        , 0.        ],\n",
              "         [0.        , 0.        , 0.        ]],\n",
              "\n",
              "        ...,\n",
              "\n",
              "        [[0.        , 0.        , 0.        ],\n",
              "         [0.        , 0.        , 0.        ],\n",
              "         [0.        , 0.        , 0.        ],\n",
              "         ...,\n",
              "         [0.9882353 , 0.9882353 , 0.9882353 ],\n",
              "         [0.9882353 , 0.9882353 , 0.9882353 ],\n",
              "         [0.99215686, 0.99215686, 0.99215686]],\n",
              "\n",
              "        [[0.        , 0.        , 0.        ],\n",
              "         [0.        , 0.        , 0.        ],\n",
              "         [0.        , 0.        , 0.        ],\n",
              "         ...,\n",
              "         [0.9882353 , 0.9882353 , 0.9882353 ],\n",
              "         [0.9882353 , 0.9882353 , 0.9882353 ],\n",
              "         [0.99215686, 0.99215686, 0.99215686]],\n",
              "\n",
              "        [[0.        , 0.        , 0.        ],\n",
              "         [0.        , 0.        , 0.        ],\n",
              "         [0.        , 0.        , 0.        ],\n",
              "         ...,\n",
              "         [0.9882353 , 0.9882353 , 0.9882353 ],\n",
              "         [0.9882353 , 0.9882353 , 0.9882353 ],\n",
              "         [0.99215686, 0.99215686, 0.99215686]]],\n",
              "\n",
              "\n",
              "       [[[0.        , 0.        , 0.        ],\n",
              "         [0.        , 0.        , 0.        ],\n",
              "         [0.        , 0.        , 0.        ],\n",
              "         ...,\n",
              "         [0.        , 0.        , 0.        ],\n",
              "         [0.7372549 , 0.7372549 , 0.7372549 ],\n",
              "         [0.        , 0.        , 0.        ]],\n",
              "\n",
              "        [[0.        , 0.        , 0.        ],\n",
              "         [0.        , 0.        , 0.        ],\n",
              "         [0.        , 0.        , 0.        ],\n",
              "         ...,\n",
              "         [0.        , 0.        , 0.        ],\n",
              "         [0.7372549 , 0.7372549 , 0.7372549 ],\n",
              "         [0.        , 0.        , 0.        ]],\n",
              "\n",
              "        [[0.        , 0.        , 0.        ],\n",
              "         [0.        , 0.        , 0.        ],\n",
              "         [0.        , 0.        , 0.        ],\n",
              "         ...,\n",
              "         [0.        , 0.        , 0.        ],\n",
              "         [0.7372549 , 0.7372549 , 0.7372549 ],\n",
              "         [0.        , 0.        , 0.        ]],\n",
              "\n",
              "        ...,\n",
              "\n",
              "        [[0.        , 0.        , 0.        ],\n",
              "         [0.        , 0.        , 0.        ],\n",
              "         [0.        , 0.        , 0.        ],\n",
              "         ...,\n",
              "         [0.99607843, 0.99607843, 0.99607843],\n",
              "         [1.        , 1.        , 1.        ],\n",
              "         [1.        , 1.        , 1.        ]],\n",
              "\n",
              "        [[0.        , 0.        , 0.        ],\n",
              "         [0.        , 0.        , 0.        ],\n",
              "         [0.        , 0.        , 0.        ],\n",
              "         ...,\n",
              "         [0.99607843, 0.99607843, 0.99607843],\n",
              "         [1.        , 1.        , 1.        ],\n",
              "         [1.        , 1.        , 1.        ]],\n",
              "\n",
              "        [[0.        , 0.        , 0.        ],\n",
              "         [0.        , 0.        , 0.        ],\n",
              "         [0.        , 0.        , 0.        ],\n",
              "         ...,\n",
              "         [0.99607843, 0.99607843, 0.99607843],\n",
              "         [1.        , 1.        , 1.        ],\n",
              "         [1.        , 1.        , 1.        ]]],\n",
              "\n",
              "\n",
              "       ...,\n",
              "\n",
              "\n",
              "       [[[0.        , 0.        , 0.        ],\n",
              "         [0.        , 0.        , 0.        ],\n",
              "         [0.        , 0.        , 0.        ],\n",
              "         ...,\n",
              "         [0.7882353 , 0.7882353 , 0.7882353 ],\n",
              "         [0.        , 0.        , 0.        ],\n",
              "         [0.        , 0.        , 0.        ]],\n",
              "\n",
              "        [[0.        , 0.        , 0.        ],\n",
              "         [0.        , 0.        , 0.        ],\n",
              "         [0.        , 0.        , 0.        ],\n",
              "         ...,\n",
              "         [0.7882353 , 0.7882353 , 0.7882353 ],\n",
              "         [0.        , 0.        , 0.        ],\n",
              "         [0.        , 0.        , 0.        ]],\n",
              "\n",
              "        [[0.        , 0.        , 0.        ],\n",
              "         [0.        , 0.        , 0.        ],\n",
              "         [0.        , 0.        , 0.        ],\n",
              "         ...,\n",
              "         [0.7882353 , 0.7882353 , 0.7882353 ],\n",
              "         [0.        , 0.        , 0.        ],\n",
              "         [0.        , 0.        , 0.        ]],\n",
              "\n",
              "        ...,\n",
              "\n",
              "        [[0.        , 0.        , 0.        ],\n",
              "         [0.6313726 , 0.6313726 , 0.6313726 ],\n",
              "         [0.69411767, 0.69411767, 0.69411767],\n",
              "         ...,\n",
              "         [0.99607843, 0.99607843, 0.99607843],\n",
              "         [1.        , 1.        , 1.        ],\n",
              "         [0.99607843, 0.99607843, 0.99607843]],\n",
              "\n",
              "        [[0.        , 0.        , 0.        ],\n",
              "         [0.6313726 , 0.6313726 , 0.6313726 ],\n",
              "         [0.69411767, 0.69411767, 0.69411767],\n",
              "         ...,\n",
              "         [0.99607843, 0.99607843, 0.99607843],\n",
              "         [1.        , 1.        , 1.        ],\n",
              "         [0.99607843, 0.99607843, 0.99607843]],\n",
              "\n",
              "        [[0.        , 0.        , 0.        ],\n",
              "         [0.6313726 , 0.6313726 , 0.6313726 ],\n",
              "         [0.69411767, 0.69411767, 0.69411767],\n",
              "         ...,\n",
              "         [0.99607843, 0.99607843, 0.99607843],\n",
              "         [1.        , 1.        , 1.        ],\n",
              "         [0.99607843, 0.99607843, 0.99607843]]],\n",
              "\n",
              "\n",
              "       [[[0.        , 0.        , 0.        ],\n",
              "         [0.        , 0.        , 0.        ],\n",
              "         [0.7411765 , 0.7411765 , 0.7411765 ],\n",
              "         ...,\n",
              "         [0.76862746, 0.76862746, 0.76862746],\n",
              "         [0.6666667 , 0.6666667 , 0.6666667 ],\n",
              "         [0.9647059 , 0.9647059 , 0.9647059 ]],\n",
              "\n",
              "        [[0.        , 0.        , 0.        ],\n",
              "         [0.        , 0.        , 0.        ],\n",
              "         [0.7411765 , 0.7411765 , 0.7411765 ],\n",
              "         ...,\n",
              "         [0.76862746, 0.76862746, 0.76862746],\n",
              "         [0.6666667 , 0.6666667 , 0.6666667 ],\n",
              "         [0.9647059 , 0.9647059 , 0.9647059 ]],\n",
              "\n",
              "        [[0.        , 0.        , 0.        ],\n",
              "         [0.        , 0.        , 0.        ],\n",
              "         [0.7411765 , 0.7411765 , 0.7411765 ],\n",
              "         ...,\n",
              "         [0.76862746, 0.76862746, 0.76862746],\n",
              "         [0.6666667 , 0.6666667 , 0.6666667 ],\n",
              "         [0.9647059 , 0.9647059 , 0.9647059 ]],\n",
              "\n",
              "        ...,\n",
              "\n",
              "        [[0.75686276, 0.75686276, 0.75686276],\n",
              "         [0.79607844, 0.79607844, 0.79607844],\n",
              "         [0.84313726, 0.84313726, 0.84313726],\n",
              "         ...,\n",
              "         [0.99607843, 0.99607843, 0.99607843],\n",
              "         [0.99607843, 0.99607843, 0.99607843],\n",
              "         [0.99607843, 0.99607843, 0.99607843]],\n",
              "\n",
              "        [[0.75686276, 0.75686276, 0.75686276],\n",
              "         [0.79607844, 0.79607844, 0.79607844],\n",
              "         [0.84313726, 0.84313726, 0.84313726],\n",
              "         ...,\n",
              "         [0.99607843, 0.99607843, 0.99607843],\n",
              "         [0.99607843, 0.99607843, 0.99607843],\n",
              "         [0.99607843, 0.99607843, 0.99607843]],\n",
              "\n",
              "        [[0.75686276, 0.75686276, 0.75686276],\n",
              "         [0.79607844, 0.79607844, 0.79607844],\n",
              "         [0.84313726, 0.84313726, 0.84313726],\n",
              "         ...,\n",
              "         [0.99607843, 0.99607843, 0.99607843],\n",
              "         [0.99607843, 0.99607843, 0.99607843],\n",
              "         [0.99607843, 0.99607843, 0.99607843]]],\n",
              "\n",
              "\n",
              "       [[[0.        , 0.        , 0.        ],\n",
              "         [0.8392157 , 0.8392157 , 0.8392157 ],\n",
              "         [0.92156863, 0.92156863, 0.92156863],\n",
              "         ...,\n",
              "         [0.8666667 , 0.8666667 , 0.8666667 ],\n",
              "         [0.88235295, 0.88235295, 0.88235295],\n",
              "         [0.827451  , 0.827451  , 0.827451  ]],\n",
              "\n",
              "        [[0.        , 0.        , 0.        ],\n",
              "         [0.8392157 , 0.8392157 , 0.8392157 ],\n",
              "         [0.92156863, 0.92156863, 0.92156863],\n",
              "         ...,\n",
              "         [0.8666667 , 0.8666667 , 0.8666667 ],\n",
              "         [0.88235295, 0.88235295, 0.88235295],\n",
              "         [0.827451  , 0.827451  , 0.827451  ]],\n",
              "\n",
              "        [[0.        , 0.        , 0.        ],\n",
              "         [0.8392157 , 0.8392157 , 0.8392157 ],\n",
              "         [0.92156863, 0.92156863, 0.92156863],\n",
              "         ...,\n",
              "         [0.8666667 , 0.8666667 , 0.8666667 ],\n",
              "         [0.88235295, 0.88235295, 0.88235295],\n",
              "         [0.827451  , 0.827451  , 0.827451  ]],\n",
              "\n",
              "        ...,\n",
              "\n",
              "        [[0.        , 0.        , 0.        ],\n",
              "         [0.        , 0.        , 0.        ],\n",
              "         [0.        , 0.        , 0.        ],\n",
              "         ...,\n",
              "         [0.99607843, 0.99607843, 0.99607843],\n",
              "         [0.99607843, 0.99607843, 0.99607843],\n",
              "         [0.99607843, 0.99607843, 0.99607843]],\n",
              "\n",
              "        [[0.        , 0.        , 0.        ],\n",
              "         [0.        , 0.        , 0.        ],\n",
              "         [0.        , 0.        , 0.        ],\n",
              "         ...,\n",
              "         [0.99607843, 0.99607843, 0.99607843],\n",
              "         [0.99607843, 0.99607843, 0.99607843],\n",
              "         [0.99607843, 0.99607843, 0.99607843]],\n",
              "\n",
              "        [[0.        , 0.        , 0.        ],\n",
              "         [0.        , 0.        , 0.        ],\n",
              "         [0.        , 0.        , 0.        ],\n",
              "         ...,\n",
              "         [0.99607843, 0.99607843, 0.99607843],\n",
              "         [0.99607843, 0.99607843, 0.99607843],\n",
              "         [0.99607843, 0.99607843, 0.99607843]]]], dtype=float32)"
            ]
          },
          "metadata": {},
          "execution_count": 239
        }
      ]
    },
    {
      "cell_type": "code",
      "metadata": {
        "id": "ka9BRz3bwhzP"
      },
      "source": [
        "def createCNNmodel(num_classes):\n",
        "  model = Sequential()\n",
        "  model.add(Convolution2D(32, 3, 3, input_shape=(200, 150,3), border_mode='same', activation ='relu',W_constraint =maxnorm(3)))\n",
        "  model.add(Convolution2D(32, 3, 3, activation ='relu', border_mode='same',W_constraint =maxnorm(3)))\n",
        "  model.add(MaxPooling2D(pool_size=(2, 2)))\n",
        "  model.add(Flatten())\n",
        "  model.add(Dense (512, activation='relu', W_constraint = maxnorm(3))) \n",
        "  model.add(Dropout (0.6)) \n",
        "  model.add(Dense (num_classes, activation='softmax'))\n",
        "  epochs =50\n",
        "  lrate= 0.01 \n",
        "  decay = lrate/epochs\n",
        "  sgd = SGD(lr=lrate, momentum =0.9, decay=decay, nesterov=False)\n",
        "  model.compile(loss='categorical_crossentropy', optimizer=sgd, metrics=['accuracy'])\n",
        "  print (model.summary())\n",
        "  return model, epochs\n"
      ],
      "execution_count": 240,
      "outputs": []
    },
    {
      "cell_type": "code",
      "metadata": {
        "colab": {
          "base_uri": "https://localhost:8080/"
        },
        "id": "wNNN6_KQwh4l",
        "outputId": "22369cae-2772-4035-d8b9-73f49f6c9ff4"
      },
      "source": [
        "model, epochs = createCNNmodel(num_classes)\n",
        "print(\"CNN Model Created:\")"
      ],
      "execution_count": 241,
      "outputs": [
        {
          "output_type": "stream",
          "name": "stdout",
          "text": [
            "Model: \"sequential_15\"\n",
            "_________________________________________________________________\n",
            "Layer (type)                 Output Shape              Param #   \n",
            "=================================================================\n",
            "conv2d_53 (Conv2D)           (None, 200, 150, 32)      896       \n",
            "_________________________________________________________________\n",
            "conv2d_54 (Conv2D)           (None, 200, 150, 32)      9248      \n",
            "_________________________________________________________________\n",
            "max_pooling2d_27 (MaxPooling (None, 100, 75, 32)       0         \n",
            "_________________________________________________________________\n",
            "flatten_13 (Flatten)         (None, 240000)            0         \n",
            "_________________________________________________________________\n",
            "dense_20 (Dense)             (None, 512)               122880512 \n",
            "_________________________________________________________________\n",
            "dropout_34 (Dropout)         (None, 512)               0         \n",
            "_________________________________________________________________\n",
            "dense_21 (Dense)             (None, 225)               115425    \n",
            "=================================================================\n",
            "Total params: 123,006,081\n",
            "Trainable params: 123,006,081\n",
            "Non-trainable params: 0\n",
            "_________________________________________________________________\n",
            "None\n",
            "CNN Model Created:\n"
          ]
        },
        {
          "output_type": "stream",
          "name": "stderr",
          "text": [
            "/usr/local/lib/python3.7/dist-packages/ipykernel_launcher.py:3: UserWarning: Update your `Conv2D` call to the Keras 2 API: `Conv2D(32, (3, 3), input_shape=(200, 150,..., activation=\"relu\", padding=\"same\", kernel_constraint=<keras.con...)`\n",
            "  This is separate from the ipykernel package so we can avoid doing imports until\n",
            "/usr/local/lib/python3.7/dist-packages/ipykernel_launcher.py:4: UserWarning: Update your `Conv2D` call to the Keras 2 API: `Conv2D(32, (3, 3), activation=\"relu\", padding=\"same\", kernel_constraint=<keras.con...)`\n",
            "  after removing the cwd from sys.path.\n",
            "/usr/local/lib/python3.7/dist-packages/ipykernel_launcher.py:7: UserWarning: Update your `Dense` call to the Keras 2 API: `Dense(512, activation=\"relu\", kernel_constraint=<keras.con...)`\n",
            "  import sys\n"
          ]
        }
      ]
    },
    {
      "cell_type": "code",
      "metadata": {
        "colab": {
          "base_uri": "https://localhost:8080/"
        },
        "id": "e_KoiQeynrD2",
        "outputId": "fe069c7d-cabc-4a58-efd5-e9aa61e75101"
      },
      "source": [
        "validate_img.shape"
      ],
      "execution_count": 242,
      "outputs": [
        {
          "output_type": "execute_result",
          "data": {
            "text/plain": [
              "(224, 200, 150, 3)"
            ]
          },
          "metadata": {},
          "execution_count": 242
        }
      ]
    },
    {
      "cell_type": "code",
      "metadata": {
        "id": "95vF6fl3QS06"
      },
      "source": [
        "batch_size = 256\n",
        "epochs = 50"
      ],
      "execution_count": 243,
      "outputs": []
    },
    {
      "cell_type": "code",
      "metadata": {
        "colab": {
          "base_uri": "https://localhost:8080/"
        },
        "id": "f3bgsor2nrFm",
        "outputId": "8012a975-6677-4b0c-d72b-cd57d3506e16"
      },
      "source": [
        "modelfit= model.fit (train_img, train_label, validation_data= (validate_img, validate_label), epochs =50)"
      ],
      "execution_count": 244,
      "outputs": [
        {
          "output_type": "stream",
          "name": "stdout",
          "text": [
            "WARNING:tensorflow:From /tensorflow-1.15.2/python3.7/keras/backend/tensorflow_backend.py:422: The name tf.global_variables is deprecated. Please use tf.compat.v1.global_variables instead.\n",
            "\n",
            "Train on 896 samples, validate on 224 samples\n",
            "Epoch 1/50\n",
            "896/896 [==============================] - 128s 143ms/step - loss: 5.4726 - accuracy: 0.0089 - val_loss: 5.4143 - val_accuracy: 0.0045\n",
            "Epoch 2/50\n",
            "896/896 [==============================] - 122s 136ms/step - loss: 5.3938 - accuracy: 0.0112 - val_loss: 5.3344 - val_accuracy: 0.0446\n",
            "Epoch 3/50\n",
            "896/896 [==============================] - 122s 136ms/step - loss: 5.0943 - accuracy: 0.0480 - val_loss: 4.0027 - val_accuracy: 0.5045\n",
            "Epoch 4/50\n",
            "896/896 [==============================] - 121s 136ms/step - loss: 2.5372 - accuracy: 0.4654 - val_loss: 0.4915 - val_accuracy: 0.9107\n",
            "Epoch 5/50\n",
            "896/896 [==============================] - 125s 140ms/step - loss: 0.9157 - accuracy: 0.7478 - val_loss: 0.4755 - val_accuracy: 0.9152\n",
            "Epoch 6/50\n",
            "896/896 [==============================] - 126s 140ms/step - loss: 0.6172 - accuracy: 0.8438 - val_loss: 0.3498 - val_accuracy: 0.9286\n",
            "Epoch 7/50\n",
            "896/896 [==============================] - 128s 143ms/step - loss: 0.3610 - accuracy: 0.9029 - val_loss: 0.2675 - val_accuracy: 0.9330\n",
            "Epoch 8/50\n",
            "896/896 [==============================] - 124s 138ms/step - loss: 0.2409 - accuracy: 0.9364 - val_loss: 0.2970 - val_accuracy: 0.9420\n",
            "Epoch 9/50\n",
            "896/896 [==============================] - 122s 136ms/step - loss: 0.2511 - accuracy: 0.9308 - val_loss: 0.2515 - val_accuracy: 0.9464\n",
            "Epoch 10/50\n",
            "896/896 [==============================] - 122s 137ms/step - loss: 0.1516 - accuracy: 0.9531 - val_loss: 0.2396 - val_accuracy: 0.9598\n",
            "Epoch 11/50\n",
            "896/896 [==============================] - 122s 137ms/step - loss: 0.1163 - accuracy: 0.9654 - val_loss: 0.2076 - val_accuracy: 0.9643\n",
            "Epoch 12/50\n",
            "896/896 [==============================] - 123s 137ms/step - loss: 0.0654 - accuracy: 0.9810 - val_loss: 0.1721 - val_accuracy: 0.9688\n",
            "Epoch 13/50\n",
            "896/896 [==============================] - 121s 135ms/step - loss: 0.0909 - accuracy: 0.9721 - val_loss: 0.1520 - val_accuracy: 0.9777\n",
            "Epoch 14/50\n",
            "896/896 [==============================] - 121s 135ms/step - loss: 0.0761 - accuracy: 0.9721 - val_loss: 0.1458 - val_accuracy: 0.9688\n",
            "Epoch 15/50\n",
            "896/896 [==============================] - 123s 137ms/step - loss: 0.0342 - accuracy: 0.9866 - val_loss: 0.1486 - val_accuracy: 0.9732\n",
            "Epoch 16/50\n",
            "896/896 [==============================] - 122s 136ms/step - loss: 0.0522 - accuracy: 0.9866 - val_loss: 0.1898 - val_accuracy: 0.9598\n",
            "Epoch 17/50\n",
            "896/896 [==============================] - 122s 136ms/step - loss: 0.0535 - accuracy: 0.9810 - val_loss: 0.1700 - val_accuracy: 0.9643\n",
            "Epoch 18/50\n",
            "896/896 [==============================] - 122s 136ms/step - loss: 0.0435 - accuracy: 0.9877 - val_loss: 0.1708 - val_accuracy: 0.9688\n",
            "Epoch 19/50\n",
            "896/896 [==============================] - 130s 146ms/step - loss: 0.0377 - accuracy: 0.9888 - val_loss: 0.1754 - val_accuracy: 0.9554\n",
            "Epoch 20/50\n",
            "896/896 [==============================] - 125s 140ms/step - loss: 0.0371 - accuracy: 0.9866 - val_loss: 0.1365 - val_accuracy: 0.9688\n",
            "Epoch 21/50\n",
            "896/896 [==============================] - 123s 137ms/step - loss: 0.0385 - accuracy: 0.9866 - val_loss: 0.1519 - val_accuracy: 0.9732\n",
            "Epoch 22/50\n",
            "896/896 [==============================] - 124s 138ms/step - loss: 0.0455 - accuracy: 0.9911 - val_loss: 0.1957 - val_accuracy: 0.9688\n",
            "Epoch 23/50\n",
            "896/896 [==============================] - 123s 138ms/step - loss: 0.0200 - accuracy: 0.9922 - val_loss: 0.1416 - val_accuracy: 0.9777\n",
            "Epoch 24/50\n",
            "896/896 [==============================] - 122s 136ms/step - loss: 0.0231 - accuracy: 0.9933 - val_loss: 0.1233 - val_accuracy: 0.9732\n",
            "Epoch 25/50\n",
            "896/896 [==============================] - 126s 141ms/step - loss: 0.0217 - accuracy: 0.9922 - val_loss: 0.1226 - val_accuracy: 0.9732\n",
            "Epoch 26/50\n",
            "896/896 [==============================] - 127s 141ms/step - loss: 0.0387 - accuracy: 0.9877 - val_loss: 0.1817 - val_accuracy: 0.9598\n",
            "Epoch 27/50\n",
            "896/896 [==============================] - 121s 135ms/step - loss: 0.0167 - accuracy: 0.9944 - val_loss: 0.1722 - val_accuracy: 0.9688\n",
            "Epoch 28/50\n",
            "896/896 [==============================] - 121s 135ms/step - loss: 0.0243 - accuracy: 0.9900 - val_loss: 0.1538 - val_accuracy: 0.9643\n",
            "Epoch 29/50\n",
            "896/896 [==============================] - 123s 137ms/step - loss: 0.0362 - accuracy: 0.9900 - val_loss: 0.1502 - val_accuracy: 0.9643\n",
            "Epoch 30/50\n",
            "896/896 [==============================] - 123s 138ms/step - loss: 0.0191 - accuracy: 0.9933 - val_loss: 0.1608 - val_accuracy: 0.9821\n",
            "Epoch 31/50\n",
            "896/896 [==============================] - 121s 135ms/step - loss: 0.0245 - accuracy: 0.9922 - val_loss: 0.1554 - val_accuracy: 0.9732\n",
            "Epoch 32/50\n",
            "896/896 [==============================] - 120s 134ms/step - loss: 0.0197 - accuracy: 0.9944 - val_loss: 0.1490 - val_accuracy: 0.9732\n",
            "Epoch 33/50\n",
            "896/896 [==============================] - 123s 137ms/step - loss: 0.0217 - accuracy: 0.9933 - val_loss: 0.1436 - val_accuracy: 0.9732\n",
            "Epoch 34/50\n",
            "896/896 [==============================] - 129s 144ms/step - loss: 0.0279 - accuracy: 0.9955 - val_loss: 0.1488 - val_accuracy: 0.9732\n",
            "Epoch 35/50\n",
            "896/896 [==============================] - 129s 144ms/step - loss: 0.0126 - accuracy: 0.9978 - val_loss: 0.1430 - val_accuracy: 0.9732\n",
            "Epoch 36/50\n",
            "896/896 [==============================] - 124s 139ms/step - loss: 0.0075 - accuracy: 0.9978 - val_loss: 0.1399 - val_accuracy: 0.9732\n",
            "Epoch 37/50\n",
            "896/896 [==============================] - 124s 138ms/step - loss: 0.0102 - accuracy: 0.9978 - val_loss: 0.1374 - val_accuracy: 0.9688\n",
            "Epoch 38/50\n",
            "896/896 [==============================] - 124s 138ms/step - loss: 0.0183 - accuracy: 0.9955 - val_loss: 0.1297 - val_accuracy: 0.9688\n",
            "Epoch 39/50\n",
            "896/896 [==============================] - 123s 138ms/step - loss: 0.0117 - accuracy: 0.9955 - val_loss: 0.1158 - val_accuracy: 0.9688\n",
            "Epoch 40/50\n",
            "896/896 [==============================] - 124s 139ms/step - loss: 0.0050 - accuracy: 0.9989 - val_loss: 0.1147 - val_accuracy: 0.9732\n",
            "Epoch 41/50\n",
            "896/896 [==============================] - 126s 141ms/step - loss: 0.0112 - accuracy: 0.9955 - val_loss: 0.1144 - val_accuracy: 0.9732\n",
            "Epoch 42/50\n",
            "896/896 [==============================] - 130s 145ms/step - loss: 0.0180 - accuracy: 0.9944 - val_loss: 0.1381 - val_accuracy: 0.9688\n",
            "Epoch 43/50\n",
            "896/896 [==============================] - 126s 141ms/step - loss: 0.0030 - accuracy: 0.9989 - val_loss: 0.1341 - val_accuracy: 0.9688\n",
            "Epoch 44/50\n",
            "896/896 [==============================] - 126s 140ms/step - loss: 0.0149 - accuracy: 0.9933 - val_loss: 0.1352 - val_accuracy: 0.9643\n",
            "Epoch 45/50\n",
            "896/896 [==============================] - 125s 140ms/step - loss: 0.0208 - accuracy: 0.9933 - val_loss: 0.1528 - val_accuracy: 0.9688\n",
            "Epoch 46/50\n",
            "896/896 [==============================] - 129s 144ms/step - loss: 0.0135 - accuracy: 0.9967 - val_loss: 0.1723 - val_accuracy: 0.9643\n",
            "Epoch 47/50\n",
            "896/896 [==============================] - 127s 141ms/step - loss: 0.0107 - accuracy: 0.9944 - val_loss: 0.1897 - val_accuracy: 0.9688\n",
            "Epoch 48/50\n",
            "896/896 [==============================] - 126s 141ms/step - loss: 0.0103 - accuracy: 0.9967 - val_loss: 0.1538 - val_accuracy: 0.9598\n",
            "Epoch 49/50\n",
            "896/896 [==============================] - 138s 154ms/step - loss: 0.0100 - accuracy: 0.9978 - val_loss: 0.1591 - val_accuracy: 0.9732\n",
            "Epoch 50/50\n",
            "896/896 [==============================] - 140s 157ms/step - loss: 0.0176 - accuracy: 0.9967 - val_loss: 0.1639 - val_accuracy: 0.9598\n"
          ]
        }
      ]
    },
    {
      "cell_type": "code",
      "metadata": {
        "colab": {
          "base_uri": "https://localhost:8080/",
          "height": 653
        },
        "id": "sXoToQRjnrKf",
        "outputId": "3db07844-7180-4353-d0b1-6cfa1b2a2b7b"
      },
      "source": [
        "train_loss =  modelfit.history['loss']\n",
        "val_loss   =  modelfit.history['val_loss']\n",
        "train_acc  =  modelfit.history['accuracy']\n",
        "val_acc    =  modelfit.history['val_accuracy']\n",
        "xc         =range(epochs)\n",
        "\n",
        "plt.figure(figsize=(20,10))\n",
        "\n",
        "plt.plot (xc, train_acc, label= 'Train accuracy')\n",
        "\n",
        "plt.plot (xc, val_acc, label='Validation acuracy') \n",
        "plt.legend (loc='upper left', prop={'size': 20})\n",
        "\n",
        "plt.title(\"Accuracy\", size = 20)\n",
        "\n",
        "plt.xlabel(\"Epcoha\", size = 20)\n",
        "\n",
        "plt.ylabel (\"Accuracy\", size = 20)"
      ],
      "execution_count": 248,
      "outputs": [
        {
          "output_type": "execute_result",
          "data": {
            "text/plain": [
              "Text(0, 0.5, 'Accuracy')"
            ]
          },
          "metadata": {},
          "execution_count": 248
        },
        {
          "output_type": "display_data",
          "data": {
            "image/png": "[encoded data removed]",
            "text/plain": [
              "<Figure size 1440x720 with 1 Axes>"
            ]
          },
          "metadata": {
            "needs_background": "light"
          }
        }
      ]
    },
    {
      "cell_type": "code",
      "metadata": {
        "id": "OJlniBoQO4wH"
      },
      "source": [
        ""
      ],
      "execution_count": null,
      "outputs": []
    },
    {
      "cell_type": "code",
      "metadata": {
        "id": "AZBdVpiCO4x2"
      },
      "source": [
        ""
      ],
      "execution_count": null,
      "outputs": []
    },
    {
      "cell_type": "code",
      "metadata": {
        "id": "4oECq4naO41V"
      },
      "source": [
        ""
      ],
      "execution_count": null,
      "outputs": []
    },
    {
      "cell_type": "code",
      "metadata": {
        "id": "AD5daR77O43I"
      },
      "source": [
        ""
      ],
      "execution_count": null,
      "outputs": []
    },
    {
      "cell_type": "code",
      "metadata": {
        "id": "r0XTvkFaO46N"
      },
      "source": [
        ""
      ],
      "execution_count": null,
      "outputs": []
    },
    {
      "cell_type": "code",
      "metadata": {
        "id": "BozD3LYHO5AW"
      },
      "source": [
        ""
      ],
      "execution_count": null,
      "outputs": []
    },
    {
      "cell_type": "code",
      "metadata": {
        "id": "BcYPBdbLNjMo"
      },
      "source": [
        "nRows,nCols,nDims = train_img.shape[1:]\n",
        "train_data = train_img.reshape(train_img.shape[0], nRows, nCols, nDims)\n",
        "test_data = test_img.reshape(test_img.shape[0], nRows, nCols, nDims)\n",
        "input_shape = (nRows, nCols, nDims)\n",
        "\n",
        "train_data = train_data.astype('float32')\n",
        "test_data = test_data.astype('float32')"
      ],
      "execution_count": 140,
      "outputs": []
    },
    {
      "cell_type": "code",
      "metadata": {
        "id": "-PcW-EF1OEED"
      },
      "source": [
        "import numpy as np\n",
        "import matplotlib.pyplot as plt\n",
        "%matplotlib inline\n",
        "from __future__ import print_function\n",
        "import keras\n",
        "from keras.models import Sequential\n",
        "from keras.utils import to_categorical\n",
        "from keras.layers import Dense, Conv2D, MaxPooling2D, Dropout, Flatten"
      ],
      "execution_count": 141,
      "outputs": []
    },
    {
      "cell_type": "code",
      "metadata": {
        "id": "mfEf-XWRN26G"
      },
      "source": [
        "train_data /= 255\n",
        "test_data /= 255\n",
        "\n",
        "train_labels_one_hot = to_categorical(train_label)\n",
        "test_labels_one_hot = to_categorical(test_label)"
      ],
      "execution_count": 142,
      "outputs": []
    },
    {
      "cell_type": "code",
      "metadata": {
        "id": "IH0l79mgQqTy"
      },
      "source": [
        "classes = np.unique(train_label)\n",
        "nClasses = len(classes)"
      ],
      "execution_count": 143,
      "outputs": []
    },
    {
      "cell_type": "code",
      "metadata": {
        "id": "CMsrrr7mnrOL"
      },
      "source": [
        "def createModel():\n",
        "    model = Sequential()\n",
        "    # The first two layers with 32 filters of window size 3x3\n",
        "    model.add(Convolution2D(32, (3, 3), padding='same', activation='relu', input_shape=input_shape))\n",
        "    model.add(Convolution2D(32, (3, 3), activation='relu'))\n",
        "    model.add(MaxPooling2D(pool_size=(2, 2)))\n",
        "    model.add(Dropout(0.25))\n",
        "\n",
        "    model.add(Convolution2D(64, (3, 3), padding='same', activation='relu'))\n",
        "    model.add(Convolution2D(64, (3, 3), activation='relu'))\n",
        "    model.add(MaxPooling2D(pool_size=(2, 2)))\n",
        "    model.add(Dropout(0.25))\n",
        "\n",
        "    model.add(Convolution2D(64, (3, 3), padding='same', activation='relu'))\n",
        "    model.add(Convolution2D(64, (3, 3), activation='relu'))\n",
        "    model.add(MaxPooling2D(pool_size=(2, 2)))\n",
        "    model.add(Dropout(0.25))\n",
        "\n",
        "    model.add(Flatten())\n",
        "    model.add(Dense(512, activation='relu'))\n",
        "    model.add(Dropout(0.5))\n",
        "    model.add(Dense(nClasses, activation='softmax'))\n",
        "    \n",
        "    return model"
      ],
      "execution_count": 144,
      "outputs": []
    },
    {
      "cell_type": "code",
      "metadata": {
        "id": "LedmDx-7m_uY"
      },
      "source": [
        "model1 = createModel()\n",
        "batch_size = 256\n",
        "epochs = 50\n",
        "model1.compile(optimizer='rmsprop', loss='categorical_crossentropy', metrics=['accuracy'])\n"
      ],
      "execution_count": 145,
      "outputs": []
    },
    {
      "cell_type": "code",
      "metadata": {
        "colab": {
          "base_uri": "https://localhost:8080/"
        },
        "id": "U9CmtUQ5d4Qq",
        "outputId": "93630cff-5393-4a9b-eb2d-30601150bb3c"
      },
      "source": [
        "model1.summary()"
      ],
      "execution_count": 146,
      "outputs": [
        {
          "output_type": "stream",
          "name": "stdout",
          "text": [
            "Model: \"sequential_11\"\n",
            "_________________________________________________________________\n",
            "Layer (type)                 Output Shape              Param #   \n",
            "=================================================================\n",
            "conv2d_41 (Conv2D)           (None, 200, 150, 32)      896       \n",
            "_________________________________________________________________\n",
            "conv2d_42 (Conv2D)           (None, 198, 148, 32)      9248      \n",
            "_________________________________________________________________\n",
            "max_pooling2d_21 (MaxPooling (None, 99, 74, 32)        0         \n",
            "_________________________________________________________________\n",
            "dropout_27 (Dropout)         (None, 99, 74, 32)        0         \n",
            "_________________________________________________________________\n",
            "conv2d_43 (Conv2D)           (None, 99, 74, 64)        18496     \n",
            "_________________________________________________________________\n",
            "conv2d_44 (Conv2D)           (None, 97, 72, 64)        36928     \n",
            "_________________________________________________________________\n",
            "max_pooling2d_22 (MaxPooling (None, 48, 36, 64)        0         \n",
            "_________________________________________________________________\n",
            "dropout_28 (Dropout)         (None, 48, 36, 64)        0         \n",
            "_________________________________________________________________\n",
            "conv2d_45 (Conv2D)           (None, 48, 36, 64)        36928     \n",
            "_________________________________________________________________\n",
            "conv2d_46 (Conv2D)           (None, 46, 34, 64)        36928     \n",
            "_________________________________________________________________\n",
            "max_pooling2d_23 (MaxPooling (None, 23, 17, 64)        0         \n",
            "_________________________________________________________________\n",
            "dropout_29 (Dropout)         (None, 23, 17, 64)        0         \n",
            "_________________________________________________________________\n",
            "flatten_9 (Flatten)          (None, 25024)             0         \n",
            "_________________________________________________________________\n",
            "dense_12 (Dense)             (None, 512)               12812800  \n",
            "_________________________________________________________________\n",
            "dropout_30 (Dropout)         (None, 512)               0         \n",
            "_________________________________________________________________\n",
            "dense_13 (Dense)             (None, 2)                 1026      \n",
            "=================================================================\n",
            "Total params: 12,953,250\n",
            "Trainable params: 12,953,250\n",
            "Non-trainable params: 0\n",
            "_________________________________________________________________\n"
          ]
        }
      ]
    },
    {
      "cell_type": "code",
      "metadata": {
        "colab": {
          "base_uri": "https://localhost:8080/",
          "height": 337
        },
        "id": "aBedK-TEd4Uh",
        "outputId": "356bbf3c-eac2-4bd4-b752-a529d74109eb"
      },
      "source": [
        "history = model1.fit(train_data, train_labels_one_hot, batch_size=batch_size, epochs=epochs, verbose=1, \n",
        "                   validation_data=(test_data, test_labels_one_hot))\n",
        "model1.evaluate(test_data, test_labels_one_hot)\n"
      ],
      "execution_count": 147,
      "outputs": [
        {
          "output_type": "error",
          "ename": "ValueError",
          "evalue": "ignored",
          "traceback": [
            "\u001b[0;31m---------------------------------------------------------------------------\u001b[0m",
            "\u001b[0;31mValueError\u001b[0m                                Traceback (most recent call last)",
            "\u001b[0;32m<ipython-input-147-1c89c130e5d4>\u001b[0m in \u001b[0;36m<module>\u001b[0;34m()\u001b[0m\n\u001b[1;32m      1\u001b[0m history = model1.fit(train_data, train_labels_one_hot, batch_size=batch_size, epochs=epochs, verbose=1, \n\u001b[0;32m----> 2\u001b[0;31m                    validation_data=(test_data, test_labels_one_hot))\n\u001b[0m\u001b[1;32m      3\u001b[0m \u001b[0mmodel1\u001b[0m\u001b[0;34m.\u001b[0m\u001b[0mevaluate\u001b[0m\u001b[0;34m(\u001b[0m\u001b[0mtest_data\u001b[0m\u001b[0;34m,\u001b[0m \u001b[0mtest_labels_one_hot\u001b[0m\u001b[0;34m)\u001b[0m\u001b[0;34m\u001b[0m\u001b[0;34m\u001b[0m\u001b[0m\n",
            "\u001b[0;32m/tensorflow-1.15.2/python3.7/keras/engine/training.py\u001b[0m in \u001b[0;36mfit\u001b[0;34m(self, x, y, batch_size, epochs, verbose, callbacks, validation_split, validation_data, shuffle, class_weight, sample_weight, initial_epoch, steps_per_epoch, validation_steps, validation_freq, max_queue_size, workers, use_multiprocessing, **kwargs)\u001b[0m\n\u001b[1;32m   1152\u001b[0m             \u001b[0msample_weight\u001b[0m\u001b[0;34m=\u001b[0m\u001b[0msample_weight\u001b[0m\u001b[0;34m,\u001b[0m\u001b[0;34m\u001b[0m\u001b[0;34m\u001b[0m\u001b[0m\n\u001b[1;32m   1153\u001b[0m             \u001b[0mclass_weight\u001b[0m\u001b[0;34m=\u001b[0m\u001b[0mclass_weight\u001b[0m\u001b[0;34m,\u001b[0m\u001b[0;34m\u001b[0m\u001b[0;34m\u001b[0m\u001b[0m\n\u001b[0;32m-> 1154\u001b[0;31m             batch_size=batch_size)\n\u001b[0m\u001b[1;32m   1155\u001b[0m \u001b[0;34m\u001b[0m\u001b[0m\n\u001b[1;32m   1156\u001b[0m         \u001b[0;31m# Prepare validation data.\u001b[0m\u001b[0;34m\u001b[0m\u001b[0;34m\u001b[0m\u001b[0;34m\u001b[0m\u001b[0m\n",
            "\u001b[0;32m/tensorflow-1.15.2/python3.7/keras/engine/training.py\u001b[0m in \u001b[0;36m_standardize_user_data\u001b[0;34m(self, x, y, sample_weight, class_weight, check_array_lengths, batch_size)\u001b[0m\n\u001b[1;32m    619\u001b[0m                 \u001b[0mfeed_output_shapes\u001b[0m\u001b[0;34m,\u001b[0m\u001b[0;34m\u001b[0m\u001b[0;34m\u001b[0m\u001b[0m\n\u001b[1;32m    620\u001b[0m                 \u001b[0mcheck_batch_axis\u001b[0m\u001b[0;34m=\u001b[0m\u001b[0;32mFalse\u001b[0m\u001b[0;34m,\u001b[0m  \u001b[0;31m# Don't enforce the batch size.\u001b[0m\u001b[0;34m\u001b[0m\u001b[0;34m\u001b[0m\u001b[0m\n\u001b[0;32m--> 621\u001b[0;31m                 exception_prefix='target')\n\u001b[0m\u001b[1;32m    622\u001b[0m \u001b[0;34m\u001b[0m\u001b[0m\n\u001b[1;32m    623\u001b[0m             \u001b[0;31m# Generate sample-wise weight values given the `sample_weight` and\u001b[0m\u001b[0;34m\u001b[0m\u001b[0;34m\u001b[0m\u001b[0;34m\u001b[0m\u001b[0m\n",
            "\u001b[0;32m/tensorflow-1.15.2/python3.7/keras/engine/training_utils.py\u001b[0m in \u001b[0;36mstandardize_input_data\u001b[0;34m(data, names, shapes, check_batch_axis, exception_prefix)\u001b[0m\n\u001b[1;32m    143\u001b[0m                             \u001b[0;34m': expected '\u001b[0m \u001b[0;34m+\u001b[0m \u001b[0mnames\u001b[0m\u001b[0;34m[\u001b[0m\u001b[0mi\u001b[0m\u001b[0;34m]\u001b[0m \u001b[0;34m+\u001b[0m \u001b[0;34m' to have shape '\u001b[0m \u001b[0;34m+\u001b[0m\u001b[0;34m\u001b[0m\u001b[0;34m\u001b[0m\u001b[0m\n\u001b[1;32m    144\u001b[0m                             \u001b[0mstr\u001b[0m\u001b[0;34m(\u001b[0m\u001b[0mshape\u001b[0m\u001b[0;34m)\u001b[0m \u001b[0;34m+\u001b[0m \u001b[0;34m' but got array with shape '\u001b[0m \u001b[0;34m+\u001b[0m\u001b[0;34m\u001b[0m\u001b[0;34m\u001b[0m\u001b[0m\n\u001b[0;32m--> 145\u001b[0;31m                             str(data_shape))\n\u001b[0m\u001b[1;32m    146\u001b[0m     \u001b[0;32mreturn\u001b[0m \u001b[0mdata\u001b[0m\u001b[0;34m\u001b[0m\u001b[0;34m\u001b[0m\u001b[0m\n\u001b[1;32m    147\u001b[0m \u001b[0;34m\u001b[0m\u001b[0m\n",
            "\u001b[0;31mValueError\u001b[0m: Error when checking target: expected dense_13 to have shape (2,) but got array with shape (897,)"
          ]
        }
      ]
    },
    {
      "cell_type": "code",
      "metadata": {
        "id": "Q9dGp0E4d4WR"
      },
      "source": [
        ""
      ],
      "execution_count": null,
      "outputs": []
    },
    {
      "cell_type": "code",
      "metadata": {
        "id": "fbWrwEb5d4ln"
      },
      "source": [
        ""
      ],
      "execution_count": null,
      "outputs": []
    }
  ]
}